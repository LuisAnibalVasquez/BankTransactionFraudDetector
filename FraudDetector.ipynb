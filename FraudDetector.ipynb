{
  "nbformat": 4,
  "nbformat_minor": 0,
  "metadata": {
    "colab": {
      "name": "FraudDetector.ipynb",
      "provenance": [],
      "authorship_tag": "ABX9TyNE3UXUMOnbIP898UdkTH5c"
    },
    "kernelspec": {
      "name": "python3",
      "display_name": "Python 3"
    },
    "language_info": {
      "name": "python"
    },
    "accelerator": "GPU"
  },
  "cells": [
    {
      "cell_type": "markdown",
      "source": [
        "#This notebook is part of my professional portfolio.\n",
        "\n",
        "The main goal is to develop a Deep Learning model that allows determining when a bank transaction is fraudulent. \n",
        "\n",
        "\n",
        "To train the model, [The Kaggle Credit Card Transactions Fraud Detection Dataset](https://www.kaggle.com/kartik2112/fraud-detection) was used."
      ],
      "metadata": {
        "id": "ru4b-xVTbWLE"
      }
    },
    {
      "cell_type": "markdown",
      "source": [
        ""
      ],
      "metadata": {
        "id": "yf1_Ds59bYtQ"
      }
    },
    {
      "cell_type": "code",
      "execution_count": null,
      "metadata": {
        "colab": {
          "base_uri": "https://localhost:8080/"
        },
        "id": "slf3xvQTatvd",
        "outputId": "45430ba8-1aa6-4951-fbae-1151e7aca71e"
      },
      "outputs": [
        {
          "output_type": "stream",
          "name": "stdout",
          "text": [
            "2.7.0\n"
          ]
        }
      ],
      "source": [
        "import tensorflow as tf\n",
        "print(tf.__version__)"
      ]
    },
    {
      "cell_type": "markdown",
      "source": [
        "#This notebook is part of my professional portfolio"
      ],
      "metadata": {
        "id": "Jwhh79a2eZUn"
      }
    },
    {
      "cell_type": "markdown",
      "source": [
        "The main goal is to develop a Deep Learning model that allows determining when a bank transaction is fraudulent.\n",
        "\n",
        "To train the model, [The Kaggle Credit Card Transactions Fraud Detection Dataset](https://) was used. "
      ],
      "metadata": {
        "id": "OvZb7V5qeale"
      }
    },
    {
      "cell_type": "code",
      "source": [
        "import tensorflow as tf\n",
        "print(tf.__version__)"
      ],
      "metadata": {
        "id": "HzF7lx8qdLBn",
        "colab": {
          "base_uri": "https://localhost:8080/"
        },
        "outputId": "bd449226-c8eb-4f3d-9e11-26bf841fe571"
      },
      "execution_count": 1,
      "outputs": [
        {
          "output_type": "stream",
          "name": "stdout",
          "text": [
            "2.7.0\n"
          ]
        }
      ]
    },
    {
      "cell_type": "code",
      "source": [
        ""
      ],
      "metadata": {
        "id": "Wdo6Cu-wexfH"
      },
      "execution_count": null,
      "outputs": []
    }
  ]
}